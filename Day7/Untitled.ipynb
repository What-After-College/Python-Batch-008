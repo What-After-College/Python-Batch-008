{
 "cells": [
  {
   "cell_type": "code",
   "execution_count": 7,
   "metadata": {},
   "outputs": [],
   "source": [
    "import requests\n",
    "import json"
   ]
  },
  {
   "cell_type": "code",
   "execution_count": 4,
   "metadata": {},
   "outputs": [],
   "source": [
    "url = \"https://sv443.net/jokeapi/category/Programming?blacklistFlags=nsfwpolitical\""
   ]
  },
  {
   "cell_type": "code",
   "execution_count": 15,
   "metadata": {},
   "outputs": [
    {
     "name": "stdout",
     "output_type": "stream",
     "text": [
      "{\n",
      "\t\"category\": \"Programming\",\n",
      "\t\"type\": \"single\",\n",
      "\t\"joke\": \"How do you tell HTML from HTML5?\\n- Try it out in Internet Explorer\\n- Did it work?\\n- No?\\n- It's HTML5.\",\n",
      "\t\"id\": 43,\n",
      "\t\"warning\": \"Warning! The version you are currently using is in the process of being deprecated. To view the documentation of the new version of JokeAPI, please visit this page: https://sv443.net/jokeapi/v2\"\n",
      "}\n"
     ]
    }
   ],
   "source": [
    "response=requests.get(url)\n",
    "print(response.text)"
   ]
  },
  {
   "cell_type": "code",
   "execution_count": 16,
   "metadata": {},
   "outputs": [
    {
     "name": "stdout",
     "output_type": "stream",
     "text": [
      "<class 'dict'>\n"
     ]
    }
   ],
   "source": [
    "data=json.loads(response.text)\n",
    "print(type(data))"
   ]
  },
  {
   "cell_type": "code",
   "execution_count": 19,
   "metadata": {},
   "outputs": [
    {
     "data": {
      "text/plain": [
       "\"How do you tell HTML from HTML5?\\n- Try it out in Internet Explorer\\n- Did it work?\\n- No?\\n- It's HTML5.\""
      ]
     },
     "execution_count": 19,
     "metadata": {},
     "output_type": "execute_result"
    }
   ],
   "source": [
    "data['joke']"
   ]
  },
  {
   "cell_type": "code",
   "execution_count": 20,
   "metadata": {},
   "outputs": [],
   "source": [
    "url1='https://currencyapi.net/api/v1/rates?key=ICBsT0eLxAnyb4BNmTts0hz5YFDRFWPNJu0y'"
   ]
  },
  {
   "cell_type": "code",
   "execution_count": 21,
   "metadata": {},
   "outputs": [],
   "source": [
    "response=requests.get(url1)"
   ]
  },
  {
   "cell_type": "code",
   "execution_count": 41,
   "metadata": {},
   "outputs": [
    {
     "name": "stdout",
     "output_type": "stream",
     "text": [
      "The value of INR is 75.653\n"
     ]
    }
   ],
   "source": [
    "data_new=json.loads(response.text)\n",
    "for i in data_new.keys():\n",
    "    if i=='rates':\n",
    "        df=data_new[i]\n",
    "        for j in df.keys():\n",
    "            if j=='INR':\n",
    "                print(\"The value of INR is {}\".format(df[j]))"
   ]
  },
  {
   "cell_type": "code",
   "execution_count": null,
   "metadata": {},
   "outputs": [],
   "source": []
  },
  {
   "cell_type": "code",
   "execution_count": null,
   "metadata": {},
   "outputs": [],
   "source": []
  }
 ],
 "metadata": {
  "kernelspec": {
   "display_name": "Python 3",
   "language": "python",
   "name": "python3"
  },
  "language_info": {
   "codemirror_mode": {
    "name": "ipython",
    "version": 3
   },
   "file_extension": ".py",
   "mimetype": "text/x-python",
   "name": "python",
   "nbconvert_exporter": "python",
   "pygments_lexer": "ipython3",
   "version": "3.6.6"
  }
 },
 "nbformat": 4,
 "nbformat_minor": 2
}
