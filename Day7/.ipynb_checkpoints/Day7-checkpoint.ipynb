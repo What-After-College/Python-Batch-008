{
 "cells": [
  {
   "cell_type": "code",
   "execution_count": 1,
   "metadata": {},
   "outputs": [
    {
     "name": "stdout",
     "output_type": "stream",
     "text": [
      "Rate of Indian Rupees against one Dollar : 75.653\n"
     ]
    }
   ],
   "source": [
    "import requests\n",
    "\n",
    "url = \"https://currencyapi.net/api/v1/rates?key=ICBsT0eLxAnyb4BNmTts0hz5YFDRFWPNJu0y\"\n",
    "\n",
    "response = requests.get(url)\n",
    "\n",
    "recieved_data = response.json()\n",
    "\n",
    "for data in recieved_data.keys():\n",
    "    if data == 'rates':\n",
    "        currency_rate = recieved_data[data]\n",
    "        for ratesofMoney in currency_rate.keys():\n",
    "            if ratesofMoney == \"INR\":\n",
    "                print(\"Rate of Indian Rupees against one Dollar : {}\".format(currency_rate[ratesofMoney]))\n",
    "\n"
   ]
  },
  {
   "cell_type": "code",
   "execution_count": 42,
   "metadata": {},
   "outputs": [
    {
     "data": {
      "text/plain": [
       "{3: 'kello', 4: 'mello'}"
      ]
     },
     "execution_count": 42,
     "metadata": {},
     "output_type": "execute_result"
    }
   ],
   "source": [
    "d={1:'jello',2:{3:'kello',4:'mello'}}\n",
    "d[2]"
   ]
  },
  {
   "cell_type": "code",
   "execution_count": 2,
   "metadata": {},
   "outputs": [
    {
     "name": "stdout",
     "output_type": "stream",
     "text": [
      "category : Programming\n",
      "type : single\n",
      "joke : Your momma is so fat, we had to switch to NTFS to store her.\n"
     ]
    }
   ],
   "source": [
    "import requests\n",
    "import json\n",
    "url = \"https://sv443.net/jokeapi/category/Programming?blacklistFlags=nsfwpolitical\"\n",
    "\n",
    "response = requests.get(url)\n",
    "# recieved_data=json.loads(response.text)\n",
    "# print(type(recieved_data))\n",
    "recieved_data = response.json()\n",
    "\n",
    "for x in recieved_data.keys():\n",
    "    if x == 'id' or x=='warning':\n",
    "        continue\n",
    "    print(\"{} : {}\".format(x, recieved_data[x]))\n",
    "\n"
   ]
  },
  {
   "cell_type": "code",
   "execution_count": 34,
   "metadata": {},
   "outputs": [
    {
     "name": "stdout",
     "output_type": "stream",
     "text": [
      "ASCII silly question, get a silly ANSI.\n"
     ]
    }
   ],
   "source": [
    "print(recieved_data['joke'])"
   ]
  },
  {
   "cell_type": "code",
   "execution_count": 4,
   "metadata": {},
   "outputs": [],
   "source": [
    "d={1:'hello',2:'world'}"
   ]
  },
  {
   "cell_type": "code",
   "execution_count": 6,
   "metadata": {},
   "outputs": [
    {
     "data": {
      "text/plain": [
       "'hello'"
      ]
     },
     "execution_count": 6,
     "metadata": {},
     "output_type": "execute_result"
    }
   ],
   "source": [
    "d[1]\n"
   ]
  },
  {
   "cell_type": "code",
   "execution_count": 17,
   "metadata": {},
   "outputs": [],
   "source": [
    "import json\n",
    "import requests\n",
    "def match_info():\n",
    "        url='http://mapps.cricbuzz.com/cbzios/match/livematches'\n",
    "        res=(requests.get(url))\n",
    "        data=(json.loads(res.text))\n",
    "        return(data)\n",
    "data=(match_info())"
   ]
  },
  {
   "cell_type": "code",
   "execution_count": null,
   "metadata": {},
   "outputs": [],
   "source": []
  }
 ],
 "metadata": {
  "kernelspec": {
   "display_name": "Python 3",
   "language": "python",
   "name": "python3"
  },
  "language_info": {
   "codemirror_mode": {
    "name": "ipython",
    "version": 3
   },
   "file_extension": ".py",
   "mimetype": "text/x-python",
   "name": "python",
   "nbconvert_exporter": "python",
   "pygments_lexer": "ipython3",
   "version": "3.6.6"
  }
 },
 "nbformat": 4,
 "nbformat_minor": 2
}
