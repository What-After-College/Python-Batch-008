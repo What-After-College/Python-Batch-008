{
 "cells": [
  {
   "cell_type": "code",
   "execution_count": 4,
   "metadata": {},
   "outputs": [
    {
     "name": "stdout",
     "output_type": "stream",
     "text": [
      "[9, 7, 2, 1, 8, 7, 3, 5]\n"
     ]
    }
   ],
   "source": [
    "ls=[5,3,7,8,1,2,7,9]\n",
    "i=0\n",
    "j=len(ls)-1\n",
    "while(i<j):\n",
    "    temp=ls[i]\n",
    "    ls[i]=ls[j]\n",
    "    ls[j]=temp\n",
    "    i+=1\n",
    "    j-=1\n",
    "print(ls)"
   ]
  },
  {
   "cell_type": "code",
   "execution_count": 16,
   "metadata": {},
   "outputs": [
    {
     "name": "stdout",
     "output_type": "stream",
     "text": [
      "[1. 2. 3. 4. 5.]\n"
     ]
    }
   ],
   "source": [
    "import numpy as np\n",
    "arr=np.array([1,2,3,4,5],dtype=float)\n",
    "print(arr)"
   ]
  },
  {
   "cell_type": "code",
   "execution_count": 22,
   "metadata": {},
   "outputs": [
    {
     "name": "stdout",
     "output_type": "stream",
     "text": [
      "[[1 2 6]\n",
      " [2 5 8]]\n",
      "[[2 4]\n",
      " [3 6]\n",
      " [5 9]]\n",
      "[[ 38  70]\n",
      " [ 59 110]]\n"
     ]
    }
   ],
   "source": [
    "arr1=np.array([[1,2,6],[2,5,8]])\n",
    "arr2=np.array([[2,3,5],[4,6,9]])\n",
    "arr2=np.transpose(arr2)\n",
    "print(arr1)\n",
    "print(arr2)\n",
    "# print(np.multiply(arr1,arr2))\n",
    "print(np.dot(arr1,arr2))"
   ]
  },
  {
   "cell_type": "code",
   "execution_count": 27,
   "metadata": {},
   "outputs": [
    {
     "name": "stdout",
     "output_type": "stream",
     "text": [
      "[0.         0.09983342 0.19866933 0.29552021 0.38941834 0.47942554\n",
      " 0.56464247 0.64421769 0.71735609 0.78332691]\n",
      "[0.  0.1 0.2 0.3 0.4 0.5 0.6 0.7 0.8 0.9]\n"
     ]
    }
   ],
   "source": [
    "x=np.arange(0,1,0.1)\n",
    "y=np.sin(x)\n",
    "print(y)\n",
    "print(x)"
   ]
  }
 ],
 "metadata": {
  "kernelspec": {
   "display_name": "Python 3",
   "language": "python",
   "name": "python3"
  },
  "language_info": {
   "codemirror_mode": {
    "name": "ipython",
    "version": 3
   },
   "file_extension": ".py",
   "mimetype": "text/x-python",
   "name": "python",
   "nbconvert_exporter": "python",
   "pygments_lexer": "ipython3",
   "version": "3.6.6"
  }
 },
 "nbformat": 4,
 "nbformat_minor": 2
}
